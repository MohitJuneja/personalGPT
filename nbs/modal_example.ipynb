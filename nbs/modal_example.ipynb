{
 "cells": [
  {
   "cell_type": "code",
   "execution_count": 1,
   "id": "a0105451",
   "metadata": {},
   "outputs": [],
   "source": [
    "import sys\n",
    "import modal"
   ]
  },
  {
   "cell_type": "markdown",
   "id": "772cdf49",
   "metadata": {},
   "source": [
    "## A stub is the object that defines everything that will be run."
   ]
  },
  {
   "cell_type": "code",
   "execution_count": 2,
   "id": "9b707ac3",
   "metadata": {},
   "outputs": [],
   "source": [
    "stub = modal.Stub(\"example-hello-world\")"
   ]
  },
  {
   "cell_type": "markdown",
   "id": "62a82f5a",
   "metadata": {},
   "source": [
    "## Define a function\n",
    "\n",
    "* Modal Function decorator is used to define the body of the function that will \"automatically\" be run remotely. "
   ]
  },
  {
   "cell_type": "code",
   "execution_count": 5,
   "id": "03439da4",
   "metadata": {},
   "outputs": [],
   "source": [
    "@stub.function\n",
    "def f(i):\n",
    "    if i%2 == 0:\n",
    "        print(\"hello MJ\", i)\n",
    "    else:\n",
    "        print(\"How are you\", i, file=sys.stderr)\n",
    "    \n",
    "    return i * i "
   ]
  },
  {
   "cell_type": "markdown",
   "id": "0381e3a5",
   "metadata": {},
   "source": [
    "## Running the Function\n",
    "\n",
    "* This is how to invoke the function. Put the invocation code inside @stub.local_entrypoint\n",
    "* This is because the module will be imported in the cloud, and we don't want this code to be executed 2nd time in the cloud.\n",
    "* modal run `script` or @stub.local_entrypoint decorator will handle starting the Modal app and then executing the wrapped funciton body.\n"
   ]
  },
  {
   "cell_type": "code",
   "execution_count": 6,
   "id": "68683cf3",
   "metadata": {},
   "outputs": [
    {
     "ename": "InvalidError",
     "evalue": "Can't serialize object <modal.functions._FunctionHandle object at 0x000002B04F379FA0> which hasn't been created.",
     "output_type": "error",
     "traceback": [
      "\u001b[1;31m---------------------------------------------------------------------------\u001b[0m",
      "\u001b[1;31mInvalidError\u001b[0m                              Traceback (most recent call last)",
      "Cell \u001b[1;32mIn[6], line 2\u001b[0m\n\u001b[0;32m      1\u001b[0m \u001b[38;5;129;43m@stub\u001b[39;49m\u001b[38;5;241;43m.\u001b[39;49m\u001b[43mlocal_entrypoint\u001b[49m\n\u001b[1;32m----> 2\u001b[0m \u001b[38;5;28;43;01mdef\u001b[39;49;00m\u001b[43m \u001b[49m\u001b[38;5;21;43mmain\u001b[39;49m\u001b[43m(\u001b[49m\u001b[43m)\u001b[49m\u001b[43m:\u001b[49m\n\u001b[0;32m      3\u001b[0m \u001b[43m    \u001b[49m\u001b[38;5;66;43;03m# Call the funciton directly\u001b[39;49;00m\n\u001b[0;32m      4\u001b[0m \u001b[43m    \u001b[49m\u001b[38;5;28;43mprint\u001b[39;49m\u001b[43m(\u001b[49m\u001b[43mf\u001b[49m\u001b[38;5;241;43m.\u001b[39;49m\u001b[43mcall\u001b[49m\u001b[43m(\u001b[49m\u001b[38;5;241;43m1000\u001b[39;49m\u001b[43m)\u001b[49m\u001b[43m)\u001b[49m\n\u001b[0;32m      6\u001b[0m \u001b[43m    \u001b[49m\u001b[38;5;66;43;03m# Parallel map\u001b[39;49;00m\n",
      "File \u001b[1;32mC:\\source\\projects\\personalGPT\\persbotenv\\lib\\site-packages\\synchronicity\\synchronizer.py:410\u001b[0m, in \u001b[0;36mSynchronizer._wrap_proxy_method.<locals>.proxy_method\u001b[1;34m(wrapped_self, *args, **kwargs)\u001b[0m\n\u001b[0;32m    408\u001b[0m instance \u001b[38;5;241m=\u001b[39m wrapped_self\u001b[38;5;241m.\u001b[39m\u001b[38;5;18m__dict__\u001b[39m[\u001b[38;5;28mself\u001b[39m\u001b[38;5;241m.\u001b[39m_original_inst_attr]\n\u001b[0;32m    409\u001b[0m \u001b[38;5;28;01mtry\u001b[39;00m:\n\u001b[1;32m--> 410\u001b[0m     \u001b[38;5;28;01mreturn\u001b[39;00m method(instance, \u001b[38;5;241m*\u001b[39margs, \u001b[38;5;241m*\u001b[39m\u001b[38;5;241m*\u001b[39mkwargs)\n\u001b[0;32m    411\u001b[0m \u001b[38;5;28;01mexcept\u001b[39;00m UserCodeException \u001b[38;5;28;01mas\u001b[39;00m uc_exc:\n\u001b[0;32m    412\u001b[0m     \u001b[38;5;28;01mraise\u001b[39;00m uc_exc\u001b[38;5;241m.\u001b[39mexc \u001b[38;5;28;01mfrom\u001b[39;00m \u001b[38;5;28mNone\u001b[39m\n",
      "File \u001b[1;32mC:\\source\\projects\\personalGPT\\persbotenv\\lib\\site-packages\\synchronicity\\synchronizer.py:343\u001b[0m, in \u001b[0;36mSynchronizer._wrap_callable.<locals>.f_wrapped\u001b[1;34m(*args, **kwargs)\u001b[0m\n\u001b[0;32m    340\u001b[0m kwargs \u001b[38;5;241m=\u001b[39m \u001b[38;5;28mself\u001b[39m\u001b[38;5;241m.\u001b[39m_translate_in(kwargs)\n\u001b[0;32m    342\u001b[0m \u001b[38;5;66;03m# Call the function\u001b[39;00m\n\u001b[1;32m--> 343\u001b[0m res \u001b[38;5;241m=\u001b[39m f(\u001b[38;5;241m*\u001b[39margs, \u001b[38;5;241m*\u001b[39m\u001b[38;5;241m*\u001b[39mkwargs)\n\u001b[0;32m    345\u001b[0m \u001b[38;5;66;03m# Figure out if this is a coroutine or something\u001b[39;00m\n\u001b[0;32m    346\u001b[0m is_coroutine \u001b[38;5;241m=\u001b[39m inspect\u001b[38;5;241m.\u001b[39miscoroutine(res)\n",
      "File \u001b[1;32mC:\\source\\projects\\personalGPT\\persbotenv\\lib\\site-packages\\modal_utils\\decorator_utils.py:22\u001b[0m, in \u001b[0;36mdecorator_with_options.<locals>.wrapper\u001b[1;34m(*args, **kwargs)\u001b[0m\n\u001b[0;32m     16\u001b[0m \u001b[38;5;129m@functools\u001b[39m\u001b[38;5;241m.\u001b[39mwraps(dec_fun)\n\u001b[0;32m     17\u001b[0m \u001b[38;5;28;01mdef\u001b[39;00m \u001b[38;5;21mwrapper\u001b[39m(\u001b[38;5;241m*\u001b[39margs, \u001b[38;5;241m*\u001b[39m\u001b[38;5;241m*\u001b[39mkwargs):\n\u001b[0;32m     18\u001b[0m     \u001b[38;5;66;03m# Note: if the def_fun is a method, then args will contain the object the method is bound to.\u001b[39;00m\n\u001b[0;32m     19\u001b[0m     \u001b[38;5;28;01mif\u001b[39;00m args \u001b[38;5;129;01mand\u001b[39;00m inspect\u001b[38;5;241m.\u001b[39misfunction(args[\u001b[38;5;241m-\u001b[39m\u001b[38;5;241m1\u001b[39m]):\n\u001b[0;32m     20\u001b[0m         \u001b[38;5;66;03m# The decorator is invoked with a function as its first argument\u001b[39;00m\n\u001b[0;32m     21\u001b[0m         \u001b[38;5;66;03m# Call the decorator function directly\u001b[39;00m\n\u001b[1;32m---> 22\u001b[0m         \u001b[38;5;28;01mreturn\u001b[39;00m dec_fun(\u001b[38;5;241m*\u001b[39margs, \u001b[38;5;241m*\u001b[39m\u001b[38;5;241m*\u001b[39mkwargs)\n\u001b[0;32m     23\u001b[0m     \u001b[38;5;28;01melse\u001b[39;00m:\n\u001b[0;32m     24\u001b[0m         \u001b[38;5;66;03m# The function is called with arguments\u001b[39;00m\n\u001b[0;32m     25\u001b[0m         \u001b[38;5;66;03m# bind those arguments to the function and decorate the next token\u001b[39;00m\n\u001b[0;32m     26\u001b[0m         \u001b[38;5;66;03m# args is only nonempty if it's the object the method is bound to\u001b[39;00m\n\u001b[0;32m     27\u001b[0m         \u001b[38;5;28;01mreturn\u001b[39;00m functools\u001b[38;5;241m.\u001b[39mpartial(dec_fun, \u001b[38;5;241m*\u001b[39margs, \u001b[38;5;241m*\u001b[39m\u001b[38;5;241m*\u001b[39mkwargs)\n",
      "File \u001b[1;32mC:\\source\\projects\\personalGPT\\persbotenv\\lib\\site-packages\\modal\\stub.py:600\u001b[0m, in \u001b[0;36m_Stub.local_entrypoint\u001b[1;34m(self, raw_f, name)\u001b[0m\n\u001b[0;32m    570\u001b[0m \u001b[38;5;129m@decorator_with_options\u001b[39m\n\u001b[0;32m    571\u001b[0m \u001b[38;5;28;01mdef\u001b[39;00m \u001b[38;5;21mlocal_entrypoint\u001b[39m(\u001b[38;5;28mself\u001b[39m, raw_f\u001b[38;5;241m=\u001b[39m\u001b[38;5;28;01mNone\u001b[39;00m, name: Optional[\u001b[38;5;28mstr\u001b[39m] \u001b[38;5;241m=\u001b[39m \u001b[38;5;28;01mNone\u001b[39;00m):\n\u001b[0;32m    572\u001b[0m \u001b[38;5;250m    \u001b[39m\u001b[38;5;124;03m\"\"\"Decorate a function to be used as a CLI entrypoint for a Modal App.\u001b[39;00m\n\u001b[0;32m    573\u001b[0m \n\u001b[0;32m    574\u001b[0m \u001b[38;5;124;03m    These functions can be used to do initialization of apps using local\u001b[39;00m\n\u001b[1;32m   (...)\u001b[0m\n\u001b[0;32m    598\u001b[0m \n\u001b[0;32m    599\u001b[0m \u001b[38;5;124;03m    \"\"\"\u001b[39;00m\n\u001b[1;32m--> 600\u001b[0m     info \u001b[38;5;241m=\u001b[39m \u001b[43mFunctionInfo\u001b[49m\u001b[43m(\u001b[49m\u001b[43mraw_f\u001b[49m\u001b[43m,\u001b[49m\u001b[43m \u001b[49m\u001b[38;5;28;43;01mFalse\u001b[39;49;00m\u001b[43m,\u001b[49m\u001b[43m \u001b[49m\u001b[43mname_override\u001b[49m\u001b[38;5;241;43m=\u001b[39;49m\u001b[43mname\u001b[49m\u001b[43m)\u001b[49m\n\u001b[0;32m    601\u001b[0m     \u001b[38;5;28mself\u001b[39m\u001b[38;5;241m.\u001b[39m_local_entrypoints[info\u001b[38;5;241m.\u001b[39mget_tag()] \u001b[38;5;241m=\u001b[39m raw_f\n\u001b[0;32m    602\u001b[0m     \u001b[38;5;28;01mreturn\u001b[39;00m raw_f\n",
      "File \u001b[1;32mC:\\source\\projects\\personalGPT\\persbotenv\\lib\\site-packages\\modal\\_function_utils.py:129\u001b[0m, in \u001b[0;36mFunctionInfo.__init__\u001b[1;34m(self, f, serialized, name_override)\u001b[0m\n\u001b[0;32m    127\u001b[0m \u001b[38;5;28mself\u001b[39m\u001b[38;5;241m.\u001b[39mbase_dir \u001b[38;5;241m=\u001b[39m os\u001b[38;5;241m.\u001b[39mpath\u001b[38;5;241m.\u001b[39mabspath(\u001b[38;5;124m\"\u001b[39m\u001b[38;5;124m\"\u001b[39m)  \u001b[38;5;66;03m# get current dir\u001b[39;00m\n\u001b[0;32m    128\u001b[0m \u001b[38;5;28mself\u001b[39m\u001b[38;5;241m.\u001b[39mdefinition_type \u001b[38;5;241m=\u001b[39m api_pb2\u001b[38;5;241m.\u001b[39mFunction\u001b[38;5;241m.\u001b[39mDEFINITION_TYPE_SERIALIZED\n\u001b[1;32m--> 129\u001b[0m \u001b[38;5;28mself\u001b[39m\u001b[38;5;241m.\u001b[39mserialized_function \u001b[38;5;241m=\u001b[39m \u001b[43mserialize\u001b[49m\u001b[43m(\u001b[49m\u001b[38;5;28;43mself\u001b[39;49m\u001b[38;5;241;43m.\u001b[39;49m\u001b[43mraw_f\u001b[49m\u001b[43m)\u001b[49m\n\u001b[0;32m    130\u001b[0m logger\u001b[38;5;241m.\u001b[39mdebug(\u001b[38;5;124mf\u001b[39m\u001b[38;5;124m\"\u001b[39m\u001b[38;5;124mSerializing \u001b[39m\u001b[38;5;132;01m{\u001b[39;00m\u001b[38;5;28mself\u001b[39m\u001b[38;5;241m.\u001b[39mraw_f\u001b[38;5;241m.\u001b[39m\u001b[38;5;18m__qualname__\u001b[39m\u001b[38;5;132;01m}\u001b[39;00m\u001b[38;5;124m, size is \u001b[39m\u001b[38;5;132;01m{\u001b[39;00m\u001b[38;5;28mlen\u001b[39m(\u001b[38;5;28mself\u001b[39m\u001b[38;5;241m.\u001b[39mserialized_function)\u001b[38;5;132;01m}\u001b[39;00m\u001b[38;5;124m\"\u001b[39m)\n\u001b[0;32m    131\u001b[0m \u001b[38;5;28;01mif\u001b[39;00m serialized:\n",
      "File \u001b[1;32mC:\\source\\projects\\personalGPT\\persbotenv\\lib\\site-packages\\modal\\_serialization.py:40\u001b[0m, in \u001b[0;36mserialize\u001b[1;34m(obj)\u001b[0m\n\u001b[0;32m     38\u001b[0m \u001b[38;5;250m\u001b[39m\u001b[38;5;124;03m\"\"\"Serializes object and replaces all references to the client class by a placeholder.\"\"\"\u001b[39;00m\n\u001b[0;32m     39\u001b[0m buf \u001b[38;5;241m=\u001b[39m io\u001b[38;5;241m.\u001b[39mBytesIO()\n\u001b[1;32m---> 40\u001b[0m \u001b[43mPickler\u001b[49m\u001b[43m(\u001b[49m\u001b[43mbuf\u001b[49m\u001b[43m)\u001b[49m\u001b[38;5;241;43m.\u001b[39;49m\u001b[43mdump\u001b[49m\u001b[43m(\u001b[49m\u001b[43mobj\u001b[49m\u001b[43m)\u001b[49m\n\u001b[0;32m     41\u001b[0m \u001b[38;5;28;01mreturn\u001b[39;00m buf\u001b[38;5;241m.\u001b[39mgetvalue()\n",
      "File \u001b[1;32mC:\\source\\projects\\personalGPT\\persbotenv\\lib\\site-packages\\cloudpickle\\cloudpickle_fast.py:632\u001b[0m, in \u001b[0;36mCloudPickler.dump\u001b[1;34m(self, obj)\u001b[0m\n\u001b[0;32m    630\u001b[0m \u001b[38;5;28;01mdef\u001b[39;00m \u001b[38;5;21mdump\u001b[39m(\u001b[38;5;28mself\u001b[39m, obj):\n\u001b[0;32m    631\u001b[0m     \u001b[38;5;28;01mtry\u001b[39;00m:\n\u001b[1;32m--> 632\u001b[0m         \u001b[38;5;28;01mreturn\u001b[39;00m \u001b[43mPickler\u001b[49m\u001b[38;5;241;43m.\u001b[39;49m\u001b[43mdump\u001b[49m\u001b[43m(\u001b[49m\u001b[38;5;28;43mself\u001b[39;49m\u001b[43m,\u001b[49m\u001b[43m \u001b[49m\u001b[43mobj\u001b[49m\u001b[43m)\u001b[49m\n\u001b[0;32m    633\u001b[0m     \u001b[38;5;28;01mexcept\u001b[39;00m \u001b[38;5;167;01mRuntimeError\u001b[39;00m \u001b[38;5;28;01mas\u001b[39;00m e:\n\u001b[0;32m    634\u001b[0m         \u001b[38;5;28;01mif\u001b[39;00m \u001b[38;5;124m\"\u001b[39m\u001b[38;5;124mrecursion\u001b[39m\u001b[38;5;124m\"\u001b[39m \u001b[38;5;129;01min\u001b[39;00m e\u001b[38;5;241m.\u001b[39margs[\u001b[38;5;241m0\u001b[39m]:\n",
      "File \u001b[1;32mC:\\source\\projects\\personalGPT\\persbotenv\\lib\\site-packages\\modal\\_serialization.py:21\u001b[0m, in \u001b[0;36mPickler.persistent_id\u001b[1;34m(self, obj)\u001b[0m\n\u001b[0;32m     19\u001b[0m     \u001b[38;5;28;01mreturn\u001b[39;00m\n\u001b[0;32m     20\u001b[0m \u001b[38;5;28;01mif\u001b[39;00m \u001b[38;5;129;01mnot\u001b[39;00m obj\u001b[38;5;241m.\u001b[39mobject_id:\n\u001b[1;32m---> 21\u001b[0m     \u001b[38;5;28;01mraise\u001b[39;00m InvalidError(\u001b[38;5;124mf\u001b[39m\u001b[38;5;124m\"\u001b[39m\u001b[38;5;124mCan\u001b[39m\u001b[38;5;124m'\u001b[39m\u001b[38;5;124mt serialize object \u001b[39m\u001b[38;5;132;01m{\u001b[39;00mobj\u001b[38;5;132;01m}\u001b[39;00m\u001b[38;5;124m which hasn\u001b[39m\u001b[38;5;124m'\u001b[39m\u001b[38;5;124mt been created.\u001b[39m\u001b[38;5;124m\"\u001b[39m)\n\u001b[0;32m     22\u001b[0m \u001b[38;5;28;01mreturn\u001b[39;00m obj\u001b[38;5;241m.\u001b[39mobject_id\n",
      "\u001b[1;31mInvalidError\u001b[0m: Can't serialize object <modal.functions._FunctionHandle object at 0x000002B04F379FA0> which hasn't been created."
     ]
    }
   ],
   "source": [
    "@stub.local_entrypoint\n",
    "def main():\n",
    "    # Call the funciton directly\n",
    "    print(f.call(1000))\n",
    "    \n",
    "    # Parallel map\n",
    "    total = 0\n",
    "    for ret in f.map(range(20)):\n",
    "        total += ret\n",
    "    \n",
    "    print(total)"
   ]
  },
  {
   "cell_type": "code",
   "execution_count": null,
   "id": "effc98b4",
   "metadata": {},
   "outputs": [],
   "source": []
  }
 ],
 "metadata": {
  "kernelspec": {
   "display_name": "persenv",
   "language": "python",
   "name": "persenv"
  },
  "language_info": {
   "codemirror_mode": {
    "name": "ipython",
    "version": 3
   },
   "file_extension": ".py",
   "mimetype": "text/x-python",
   "name": "python",
   "nbconvert_exporter": "python",
   "pygments_lexer": "ipython3",
   "version": "3.9.16"
  }
 },
 "nbformat": 4,
 "nbformat_minor": 5
}
